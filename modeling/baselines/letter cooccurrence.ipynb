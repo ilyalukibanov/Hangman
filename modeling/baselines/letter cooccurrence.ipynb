{
 "cells": [
  {
   "cell_type": "code",
   "execution_count": 1,
   "id": "0fc82e55",
   "metadata": {},
   "outputs": [],
   "source": [
    "import pandas as pd\n",
    "import numpy as np"
   ]
  },
  {
   "cell_type": "code",
   "execution_count": 2,
   "id": "fc691253",
   "metadata": {},
   "outputs": [],
   "source": [
    "NORM = ord('a')-1\n",
    "OUTPUT_STRING = \"The strategy correctly guesses {:.2f}% of the dictionary words\""
   ]
  },
  {
   "cell_type": "code",
   "execution_count": 3,
   "id": "0f7ac2ca",
   "metadata": {},
   "outputs": [],
   "source": [
    "with open('../data/words_alpha.txt', 'r') as f: \n",
    "    data = f.read() \n",
    "words = data.splitlines()"
   ]
  },
  {
   "cell_type": "code",
   "execution_count": 4,
   "id": "d7d46220",
   "metadata": {},
   "outputs": [],
   "source": [
    "letter_map = {chr(i): i-97 for i in range(97,123)}\n",
    "position_map = {i-97: chr(i) for i in range(97,123)}"
   ]
  },
  {
   "cell_type": "code",
   "execution_count": 5,
   "id": "992405d7",
   "metadata": {},
   "outputs": [],
   "source": [
    "cooccurrence_probabilities = np.zeros((26,26))"
   ]
  },
  {
   "cell_type": "code",
   "execution_count": 6,
   "id": "3f2d60c5",
   "metadata": {},
   "outputs": [
    {
     "data": {
      "text/plain": [
       "(array([0.08464029, 0.01829659, 0.04377464, 0.03238966, 0.10772156,\n",
       "        0.01122788, 0.02364355, 0.02643092, 0.08956661, 0.00156122,\n",
       "        0.00767277, 0.05577454, 0.03010506, 0.07194762, 0.07199369,\n",
       "        0.03252444, 0.00168341, 0.07043304, 0.07161769, 0.06607014,\n",
       "        0.03762703, 0.00946435, 0.00641172, 0.00300255, 0.02019633,\n",
       "        0.00422269]),\n",
       " array([[6.34680963e-02, 1.78970933e-02, 4.26776288e-02, 3.38250249e-02,\n",
       "         1.04469063e-01, 5.94198159e-03, 2.57924259e-02, 2.24175414e-02,\n",
       "         1.03569285e-01, 6.70521145e-04, 8.33803465e-03, 8.17008096e-02,\n",
       "         2.67554466e-02, 8.43491166e-02, 5.59047903e-02, 2.01242584e-02,\n",
       "         8.69593339e-04, 6.42902573e-02, 7.87348495e-02, 8.75960775e-02,\n",
       "         2.32785106e-02, 7.03005128e-03, 3.68391360e-03, 2.14523646e-03,\n",
       "         2.83401188e-02, 6.13027371e-03],\n",
       "        [8.88753380e-02, 1.45608521e-02, 3.10479539e-02, 3.38717904e-02,\n",
       "         1.36171037e-01, 5.79014706e-03, 2.20207955e-02, 1.84646422e-02,\n",
       "         1.02173870e-01, 1.25947097e-03, 1.12041625e-02, 9.36567685e-02,\n",
       "         1.73561938e-02, 6.12610097e-02, 6.49396907e-02, 8.33188485e-03,\n",
       "         9.31780556e-04, 7.20035562e-02, 7.56024517e-02, 6.31644635e-02,\n",
       "         3.35982402e-02, 4.51642869e-03, 5.37982168e-03, 1.45038625e-03,\n",
       "         2.73322296e-02, 5.03503438e-03],\n",
       "        [9.69646009e-02, 1.06399981e-02, 3.17840275e-02, 2.56857974e-02,\n",
       "         1.09310147e-01, 5.67363198e-03, 1.55860884e-02, 3.59667955e-02,\n",
       "         9.90875912e-02, 4.03129622e-04, 1.13985497e-02, 7.26635180e-02,\n",
       "         2.53077143e-02, 6.70364009e-02, 8.73419684e-02, 2.00932685e-02,\n",
       "         7.25156243e-04, 6.38352178e-02, 6.81801918e-02, 7.46553122e-02,\n",
       "         3.46226325e-02, 7.21458900e-03, 2.40327274e-03, 1.05910978e-03,\n",
       "         2.86102762e-02, 3.75101379e-03],\n",
       "        [8.38257796e-02, 1.15923481e-02, 3.61003916e-02, 3.02998644e-02,\n",
       "         1.44902175e-01, 8.29486267e-03, 2.49934159e-02, 1.46634715e-02,\n",
       "         1.18010800e-01, 9.64215209e-04, 4.87984311e-03, 5.62117878e-02,\n",
       "         2.70154383e-02, 7.05052444e-02, 6.64067856e-02, 1.64874271e-02,\n",
       "         5.09314580e-04, 6.37992691e-02, 8.68903733e-02, 6.02775982e-02,\n",
       "         2.71547380e-02, 7.83560892e-03, 4.91466804e-03, 1.85225089e-03,\n",
       "         2.68891980e-02, 4.72313094e-03],\n",
       "        [7.29593373e-02, 1.12228660e-02, 3.94510381e-02, 4.62050060e-02,\n",
       "         9.84708658e-02, 7.54832329e-03, 2.15176861e-02, 1.68936810e-02,\n",
       "         8.97680015e-02, 5.47741798e-04, 4.51432695e-03, 6.13814775e-02,\n",
       "         2.65336770e-02, 7.96834520e-02, 5.46469791e-02, 2.00062043e-02,\n",
       "         1.12987970e-03, 8.93922402e-02, 1.10170734e-01, 7.90169462e-02,\n",
       "         2.36489468e-02, 8.54256551e-03, 3.96918109e-03, 4.60064171e-03,\n",
       "         2.36742572e-02, 4.50394322e-03],\n",
       "        [7.16739793e-02, 1.12635071e-02, 3.32556748e-02, 3.04182682e-02,\n",
       "         1.30443651e-01, 1.88238814e-02, 2.49292915e-02, 1.42051635e-02,\n",
       "         1.09294546e-01, 2.99151498e-04, 5.76999782e-03, 8.01182102e-02,\n",
       "         2.20556240e-02, 6.53555370e-02, 6.87549859e-02, 4.80002176e-03,\n",
       "         4.21531656e-04, 8.24887592e-02, 7.60026108e-02, 6.64161651e-02,\n",
       "         4.25973602e-02, 5.43458554e-03, 5.58869389e-03, 2.66516789e-03,\n",
       "         2.33519472e-02, 3.57168758e-03],\n",
       "        [9.91743993e-02, 9.33357208e-03, 2.76489886e-02, 2.72109279e-02,\n",
       "         1.28470113e-01, 5.45497567e-03, 2.63188187e-02, 2.70958170e-02,\n",
       "         1.03714883e-01, 2.49406859e-04, 3.03764765e-03, 6.92136010e-02,\n",
       "         2.41189223e-02, 7.71530527e-02, 6.18784813e-02, 1.59620390e-02,\n",
       "         2.55801907e-04, 6.75732713e-02, 8.30780643e-02, 6.36019467e-02,\n",
       "         3.07282041e-02, 4.91139661e-03, 3.61959698e-03, 4.60443433e-04,\n",
       "         3.50384662e-02, 4.69716252e-03],\n",
       "        [9.37014142e-02, 1.02758641e-02, 3.63605987e-02, 3.25100980e-02,\n",
       "         1.22040628e-01, 5.12810433e-03, 2.22853380e-02, 1.97045787e-02,\n",
       "         1.06660246e-01, 2.69279530e-04, 6.82240327e-03, 5.96011911e-02,\n",
       "         3.26260651e-02, 5.70125697e-02, 9.43323538e-02, 2.68493312e-02,\n",
       "         3.67556731e-04, 6.90200780e-02, 7.23713306e-02, 5.72956080e-02,\n",
       "         2.26607569e-02, 2.97190255e-03, 4.50699242e-03, 2.31344530e-03,\n",
       "         3.74672000e-02, 4.84506599e-03],\n",
       "        [7.86670176e-02, 1.14323331e-02, 5.12700551e-02, 3.30134109e-02,\n",
       "         1.10270881e-01, 9.04060023e-03, 3.76334291e-02, 1.53153376e-02,\n",
       "         7.87667356e-02, 3.72630479e-04, 5.93359680e-03, 6.74858539e-02,\n",
       "         2.51394365e-02, 1.06702025e-01, 5.85494703e-02, 1.56512299e-02,\n",
       "         9.04959734e-04, 4.49848211e-02, 9.58620023e-02, 7.96267097e-02,\n",
       "         2.19267170e-02, 1.07035668e-02, 1.77693005e-03, 1.50176831e-03,\n",
       "         2.74906824e-02, 9.97779962e-03],\n",
       "        [9.89215900e-02, 1.68132517e-02, 4.47213848e-02, 3.18239736e-02,\n",
       "         1.20427635e-01, 5.65621407e-03, 3.15131927e-02, 1.07530223e-02,\n",
       "         9.87972776e-02, 2.17546695e-03, 1.52904248e-02, 4.64617584e-02,\n",
       "         1.93616558e-02, 7.45252820e-02, 6.58855704e-02, 1.15610529e-02,\n",
       "         1.18096777e-03, 5.16207229e-02, 6.91798490e-02, 6.72219287e-02,\n",
       "         6.88379899e-02, 1.06597880e-02, 6.68179134e-03, 1.30528017e-03,\n",
       "         2.37436678e-02, 4.87926158e-03],\n",
       "        [7.60252539e-02, 1.33077134e-02, 1.50864672e-02, 3.41367005e-02,\n",
       "         1.79862750e-01, 7.65303321e-03, 3.07438924e-02, 2.47707933e-02,\n",
       "         1.05231952e-01, 1.20779577e-03, 1.66675817e-02, 5.49986275e-02,\n",
       "         1.91600329e-02, 8.35026077e-02, 5.10678013e-02, 1.60087840e-02,\n",
       "         7.68597310e-05, 6.39802361e-02, 9.48558880e-02, 5.02003843e-02,\n",
       "         1.79302772e-02, 2.95360966e-03, 1.01015646e-02, 7.90557233e-04,\n",
       "         2.70765852e-02, 2.60225089e-03],\n",
       "        [8.80206191e-02, 1.05300345e-02, 3.35718181e-02, 3.11762256e-02,\n",
       "         1.33814085e-01, 6.20043296e-03, 2.92396379e-02, 1.65821934e-02,\n",
       "         1.18108642e-01, 2.20477030e-04, 8.40133524e-03, 5.40774712e-02,\n",
       "         2.26343524e-02, 6.30383798e-02, 6.81983159e-02, 1.46198190e-02,\n",
       "         9.41217729e-04, 4.60526231e-02, 8.47921134e-02, 6.75162553e-02,\n",
       "         2.76163597e-02, 5.98640263e-03, 4.63904300e-03, 1.78960303e-03,\n",
       "         5.57690845e-02, 6.46345819e-03],\n",
       "        [1.02709832e-01, 1.57206543e-02, 3.74463864e-02, 2.63508281e-02,\n",
       "         1.17810572e-01, 4.39509891e-03, 2.06116842e-02, 1.84339001e-02,\n",
       "         1.17244564e-01, 4.68978256e-04, 5.57742723e-03, 5.79772123e-02,\n",
       "         2.21120553e-02, 7.79420300e-02, 7.43141867e-02, 2.52601392e-02,\n",
       "         5.12102694e-04, 5.80401021e-02, 7.52683149e-02, 7.48783981e-02,\n",
       "         2.75044068e-02, 4.16869561e-03, 1.89567839e-03, 1.84536655e-03,\n",
       "         2.58315380e-02, 5.67984777e-03],\n",
       "        [7.83429771e-02, 1.31126344e-02, 4.25713378e-02, 3.79208832e-02,\n",
       "         1.26628158e-01, 8.68683944e-03, 4.33193712e-02, 1.62170978e-02,\n",
       "         1.02048730e-01, 8.20423725e-04, 5.10476628e-03, 5.94790559e-02,\n",
       "         2.06578700e-02, 6.33889657e-02, 6.14926719e-02, 1.63044654e-02,\n",
       "         1.11497748e-03, 5.28857115e-02, 9.35349612e-02, 8.33994831e-02,\n",
       "         2.79950874e-02, 9.29175632e-03, 3.11111999e-03, 1.94039364e-03,\n",
       "         2.58741340e-02, 4.75612780e-03],\n",
       "        [7.11692320e-02, 1.19976213e-02, 4.27849573e-02, 3.22795775e-02,\n",
       "         9.81747492e-02, 6.81567465e-03, 2.76901060e-02, 2.31846422e-02,\n",
       "         9.54968206e-02, 5.77000027e-04, 6.30278574e-03, 6.29342699e-02,\n",
       "         3.32309275e-02, 8.69464613e-02, 5.83949083e-02, 2.81351993e-02,\n",
       "         7.35435539e-04, 6.83999266e-02, 8.75183030e-02, 7.09894261e-02,\n",
       "         3.45050438e-02, 9.51128908e-03, 5.38312286e-03, 3.00880091e-03,\n",
       "         2.92346680e-02, 4.59905130e-03],\n",
       "        [8.82581242e-02, 8.68350487e-03, 3.99454292e-02, 2.72096220e-02,\n",
       "         1.18941148e-01, 5.58514670e-03, 2.00341329e-02, 3.83289513e-02,\n",
       "         1.05800241e-01, 4.09019868e-04, 4.08627836e-03, 6.51204060e-02,\n",
       "         2.06091129e-02, 6.03049485e-02, 8.33446587e-02, 2.05973520e-02,\n",
       "         4.91346551e-04, 7.90976473e-02, 7.26343493e-02, 7.11707638e-02,\n",
       "         2.72867216e-02, 5.81252516e-03, 2.04509934e-03, 2.14049375e-03,\n",
       "         2.84850322e-02, 3.57794377e-03],\n",
       "        [9.23147000e-02, 9.79325354e-03, 2.10289243e-02, 2.97340385e-02,\n",
       "         1.25414379e-01, 6.35169674e-03, 1.31841992e-02, 8.93286434e-03,\n",
       "         1.27388213e-01, 3.28972341e-04, 5.49130754e-03, 5.39008528e-02,\n",
       "         1.26527823e-02, 6.69079131e-02, 3.33527343e-02, 7.99655844e-03,\n",
       "         2.88483438e-03, 5.52420477e-02, 5.96958271e-02, 7.02482476e-02,\n",
       "         1.64030670e-01, 7.11086368e-03, 1.64486171e-03, 1.21466711e-03,\n",
       "         1.80428676e-02, 5.11172407e-03],\n",
       "        [9.26303606e-02, 1.33038031e-02, 4.07870703e-02, 3.38642261e-02,\n",
       "         1.26019937e-01, 8.29476637e-03, 2.58351996e-02, 2.23165474e-02,\n",
       "         1.14048835e-01, 5.80305473e-04, 6.18485571e-03, 5.35457865e-02,\n",
       "         2.73023720e-02, 6.87545924e-02, 7.35739293e-02, 2.23301546e-02,\n",
       "         7.78809966e-04, 4.13233526e-02, 8.34143093e-02, 6.96718753e-02,\n",
       "         2.77458054e-02, 8.82064319e-03, 4.07654589e-03, 1.83936824e-03,\n",
       "         2.78010345e-02, 5.15551386e-03],\n",
       "        [7.45934052e-02, 1.45066940e-02, 4.09666772e-02, 2.61887384e-02,\n",
       "         1.20994782e-01, 7.54038715e-03, 2.03760390e-02, 2.79948583e-02,\n",
       "         1.05608994e-01, 4.27019902e-04, 7.39986274e-03, 5.73895140e-02,\n",
       "         2.97040273e-02, 6.36477522e-02, 6.03917254e-02, 2.96136123e-02,\n",
       "         1.68520354e-03, 5.63622697e-02, 8.84018344e-02, 8.91556553e-02,\n",
       "         3.47716206e-02, 7.44343620e-03, 4.82140328e-03, 1.32354383e-03,\n",
       "         2.54545256e-02, 3.23641870e-03],\n",
       "        [8.31751806e-02, 9.51255816e-03, 3.83991921e-02, 2.57343015e-02,\n",
       "         1.29446431e-01, 5.54241271e-03, 2.18333631e-02, 3.10408253e-02,\n",
       "         1.24643852e-01, 2.57333267e-04, 4.83864522e-03, 5.93932978e-02,\n",
       "         2.27671709e-02, 6.98425881e-02, 7.78637830e-02, 1.65638796e-02,\n",
       "         4.49358470e-04, 7.74797326e-02, 7.31703751e-02, 5.16216382e-02,\n",
       "         2.57479479e-02, 7.46753848e-03, 3.49544354e-03, 1.94949445e-03,\n",
       "         3.27710017e-02, 4.99265528e-03],\n",
       "        [7.23958705e-02, 2.14970656e-02, 3.44909591e-02, 3.93172624e-02,\n",
       "         1.14157332e-01, 1.04691014e-02, 2.35422662e-02, 1.59163635e-02,\n",
       "         8.94259962e-02, 7.92713379e-04, 6.24393905e-03, 7.34065800e-02,\n",
       "         2.70790890e-02, 9.56554022e-02, 4.52295830e-02, 2.18273629e-02,\n",
       "         1.05430879e-03, 7.23496289e-02, 9.56263361e-02, 7.48242158e-02,\n",
       "         2.45635452e-02, 8.54016547e-03, 3.25276723e-03, 1.95932323e-03,\n",
       "         2.23518749e-02, 4.03094753e-03],\n",
       "        [8.09130872e-02, 1.13190837e-02, 2.78332811e-02, 2.65156015e-02,\n",
       "         1.85690216e-01, 5.46513009e-03, 2.26219664e-02, 7.79807100e-03,\n",
       "         1.14087291e-01, 3.34820223e-04, 3.20779375e-03, 7.15813235e-02,\n",
       "         1.30795900e-02, 7.18621405e-02, 5.21401493e-02, 9.22915744e-03,\n",
       "         4.26625768e-04, 8.13235119e-02, 8.02164451e-02, 6.35564388e-02,\n",
       "         2.65804055e-02, 7.34984393e-03, 3.44000778e-03, 1.30687894e-03,\n",
       "         2.72770475e-02, 4.84409258e-03],\n",
       "        [8.27372256e-02, 1.23237766e-02, 1.18494203e-02, 5.31848282e-02,\n",
       "         1.47875832e-01, 1.02176347e-02, 3.21518699e-02, 3.86884997e-02,\n",
       "         8.92738554e-02, 2.56152401e-04, 2.17350056e-02, 5.88106939e-02,\n",
       "         1.98755289e-02, 7.23677969e-02, 6.20078553e-02, 1.36140258e-02,\n",
       "         1.13845512e-04, 8.77179667e-02, 8.42836271e-02, 5.20653473e-02,\n",
       "         9.37328046e-03, 3.67151775e-03, 9.69584274e-03, 1.06255811e-03,\n",
       "         2.24560272e-02, 2.58998539e-03],\n",
       "        [9.25714675e-02, 1.26164167e-02, 4.34678971e-02, 2.82294451e-02,\n",
       "         1.13394514e-01, 2.75824494e-03, 1.81158803e-02, 1.80988541e-02,\n",
       "         1.24546677e-01, 6.81048133e-05, 8.68336370e-04, 6.14645940e-02,\n",
       "         2.27640338e-02, 7.14589754e-02, 6.79515775e-02, 3.18390002e-02,\n",
       "         5.27812303e-04, 5.82977202e-02, 7.12716871e-02, 8.60334054e-02,\n",
       "         2.68503226e-02, 7.69584390e-03, 9.19414980e-04, 1.02157220e-03,\n",
       "         3.35416206e-02, 3.62658131e-03],\n",
       "        [8.33687899e-02, 8.67475910e-03, 5.33850582e-02, 3.12601677e-02,\n",
       "         9.54073332e-02, 3.51895883e-03, 2.65348517e-02, 3.31873358e-02,\n",
       "         1.01789513e-01, 1.50168940e-04, 4.64022025e-03, 6.87673633e-02,\n",
       "         3.76173195e-02, 6.51232637e-02, 8.89750970e-02, 3.95695157e-02,\n",
       "         2.95332249e-04, 5.76798899e-02, 8.11012389e-02, 6.50832186e-02,\n",
       "         1.90864723e-02, 1.68689776e-03, 3.07846327e-03, 3.42885746e-03,\n",
       "         2.08584658e-02, 5.73144788e-03],\n",
       "        [8.96876911e-02, 9.96310691e-03, 1.83873577e-02, 4.63827017e-02,\n",
       "         1.89437134e-01, 3.05798331e-03, 4.03061929e-02, 1.34551266e-02,\n",
       "         1.17643577e-01, 3.55120642e-04, 4.12334524e-03, 4.15688441e-02,\n",
       "         1.61579892e-02, 9.90983881e-02, 9.66125437e-02, 1.08903664e-02,\n",
       "         5.32680964e-04, 4.05429400e-02, 5.19462584e-02, 5.61682483e-02,\n",
       "         1.22122043e-02, 1.16400655e-03, 1.38102472e-03, 1.30210902e-03,\n",
       "         2.18004617e-02, 1.58225975e-02]]))"
      ]
     },
     "execution_count": 6,
     "metadata": {},
     "output_type": "execute_result"
    }
   ],
   "source": [
    "cooccurrence_probabilities = np.zeros((26,26))\n",
    "prior_probabilities = np.zeros((26,))\n",
    "for word in words:\n",
    "    for i in range(len(word)-1):\n",
    "        for j in range(i+1,len(word)):\n",
    "            cooccurrence_probabilities[letter_map[word[i]]][letter_map[word[j]]] += 1\n",
    "        prior_probabilities[letter_map[word[i]]] += 1\n",
    "    prior_probabilities[letter_map[word[-1]]] += 1\n",
    "prior_probabilities /= prior_probabilities.sum()\n",
    "cooccurrence_probabilities /= cooccurrence_probabilities.sum(axis=1).reshape((26,1))\n",
    "prior_probabilities, cooccurrence_probabilities"
   ]
  },
  {
   "cell_type": "code",
   "execution_count": 7,
   "id": "fcea6189",
   "metadata": {},
   "outputs": [],
   "source": [
    "def game_cp(word, is_print=True):\n",
    "    if is_print: print(f'word: {word}')\n",
    "    guess_position = 1\n",
    "    correct_letters_needed = len(set(word))\n",
    "    transition_probs = prior_probabilities\n",
    "    transition_order = np.argsort(prior_probabilities)\n",
    "    guess = position_map[transition_order[-guess_position]]\n",
    "    guesses = set()\n",
    "    n_mistakes = 0\n",
    "    n_correct = 0\n",
    "    while n_mistakes < 8 and n_correct < correct_letters_needed:\n",
    "        guesses.update(guess)\n",
    "        if guess in word:\n",
    "            n_correct += 1\n",
    "            if is_print: print(f'correct guess: {guess}')\n",
    "            guess_position = 1\n",
    "            transition_probs = cooccurrence_probabilities[letter_map[guess]]\n",
    "            transition_order = np.argsort(transition_probs)\n",
    "            guess = position_map[transition_order[-guess_position]]\n",
    "            while guess in guesses:\n",
    "                guess_position += 1\n",
    "                guess = position_map[transition_order[-guess_position]]\n",
    "        else:\n",
    "            if is_print: print(f'wrong guess: {guess}')\n",
    "            n_mistakes += 1\n",
    "            guess_position += 1\n",
    "            guess = position_map[transition_order[-guess_position]]\n",
    "            while guess in guesses:\n",
    "                guess_position += 1\n",
    "                guess = position_map[transition_order[-guess_position]]\n",
    "    if (n_correct == correct_letters_needed):\n",
    "        if is_print: print('WIN!')\n",
    "    return n_correct == correct_letters_needed"
   ]
  },
  {
   "cell_type": "code",
   "execution_count": 8,
   "id": "0aae7ebd",
   "metadata": {},
   "outputs": [
    {
     "name": "stdout",
     "output_type": "stream",
     "text": [
      "The strategy correctly guesses 29.22% of the dictionary words\n"
     ]
    }
   ],
   "source": [
    "results = []\n",
    "is_print = False\n",
    "for i, word in enumerate(words):\n",
    "    if is_print: print(f'GAME: {i}')\n",
    "    if is_print: print('-'*20)\n",
    "    results.append(game_cp(word, is_print=is_print))\n",
    "    if is_print: print('-'*20)\n",
    "print(OUTPUT_STRING.format((sum(results) / len(words)*100)))"
   ]
  },
  {
   "cell_type": "code",
   "execution_count": 9,
   "id": "5d5fa7c3",
   "metadata": {},
   "outputs": [],
   "source": [
    "def game_cp_cum(word, is_print=True):\n",
    "    if is_print: print(f'word: {word}')\n",
    "    guess_position = 1\n",
    "    correct_letters_needed = len(set(word))\n",
    "    transition_probs = np.zeros((26,))\n",
    "    transition_order = np.argsort(prior_probabilities)\n",
    "    guess = position_map[transition_order[-guess_position]]\n",
    "    guesses = set()\n",
    "    n_mistakes = 0\n",
    "    n_correct = 0\n",
    "    while n_mistakes < 8 and n_correct < correct_letters_needed:\n",
    "        guesses.update(guess)\n",
    "        if guess in word:\n",
    "            n_correct += 1\n",
    "            if is_print: print(f'correct guess: {guess}')\n",
    "            guess_position = 1\n",
    "            transition_probs += cooccurrence_probabilities[letter_map[guess]]\n",
    "            transition_order = np.argsort(transition_probs)\n",
    "            guess = position_map[transition_order[-guess_position]]\n",
    "            while guess in guesses:\n",
    "                guess_position += 1\n",
    "                guess = position_map[transition_order[-guess_position]]\n",
    "        else:\n",
    "            if is_print: print(f'wrong guess: {guess}')\n",
    "            n_mistakes += 1\n",
    "            guess_position += 1\n",
    "            guess = position_map[transition_order[-guess_position]]\n",
    "            while guess in guesses:\n",
    "                guess_position += 1\n",
    "                guess = position_map[transition_order[-guess_position]]\n",
    "    if (n_correct == correct_letters_needed):\n",
    "        if is_print: print('WIN!')\n",
    "    return n_correct == correct_letters_needed"
   ]
  },
  {
   "cell_type": "code",
   "execution_count": 10,
   "id": "ba114401",
   "metadata": {},
   "outputs": [
    {
     "name": "stdout",
     "output_type": "stream",
     "text": [
      "The strategy correctly guesses 28.24% of the dictionary words\n"
     ]
    }
   ],
   "source": [
    "results = []\n",
    "is_print = False\n",
    "for i, word in enumerate(words):\n",
    "    if is_print: print(f'GAME: {i}')\n",
    "    if is_print: print('-'*20)\n",
    "    results.append(game_cp_cum(word, is_print=is_print))\n",
    "    if is_print: print('-'*20)\n",
    "print(OUTPUT_STRING.format((sum(results) / len(words)*100)))"
   ]
  },
  {
   "cell_type": "markdown",
   "id": "73e087d8",
   "metadata": {},
   "source": [
    "# LENGTH DEPENDENT TRANSITION PROBABILITIES"
   ]
  },
  {
   "cell_type": "code",
   "execution_count": 11,
   "id": "bd0d86c4",
   "metadata": {},
   "outputs": [
    {
     "name": "stderr",
     "output_type": "stream",
     "text": [
      "C:\\Users\\Ilya\\AppData\\Local\\Temp\\ipykernel_23844\\1549353430.py:13: RuntimeWarning: invalid value encountered in divide\n",
      "  cp[i] /= cp[i].sum(axis=1).reshape((26,1))\n",
      "C:\\Users\\Ilya\\AppData\\Local\\Temp\\ipykernel_23844\\1549353430.py:12: RuntimeWarning: invalid value encountered in divide\n",
      "  pp[i] /= pp[i].sum()\n"
     ]
    }
   ],
   "source": [
    "MAX_N_LETTERS = 31\n",
    "cp = [np.zeros((26,26)) for i in range(MAX_N_LETTERS)]\n",
    "pp = [np.zeros((26,)) for i in range(MAX_N_LETTERS)]\n",
    "for word in words:\n",
    "    n = len(word)-1\n",
    "    for i in range(len(word)-1):\n",
    "        for j in range(i+1,len(word)):\n",
    "            cp[n][letter_map[word[i]]][letter_map[word[j]]] += 1\n",
    "        pp[n][letter_map[word[i]]] += 1\n",
    "    pp[n][letter_map[word[-1]]] += 1\n",
    "for i in range(MAX_N_LETTERS):\n",
    "    pp[i] /= pp[i].sum()\n",
    "    cp[i] /= cp[i].sum(axis=1).reshape((26,1))\n",
    "ip = [e/e.sum()for e in [np.divide(1, pp[i], out=np.zeros_like(pp[i]), where=pp[i]!=0) for i in range(MAX_N_LETTERS)]]"
   ]
  },
  {
   "cell_type": "code",
   "execution_count": 12,
   "id": "bbd3ae90",
   "metadata": {},
   "outputs": [],
   "source": [
    "def game_cp_ld(word, is_print=True):\n",
    "    if is_print: print(f'word: {word}')\n",
    "    WORD_LEN = len(word)-1\n",
    "    guess_position = 1\n",
    "    correct_letters_needed = len(set(word))\n",
    "    transition_probs = np.zeros((26,))\n",
    "    transition_order = np.argsort(pp[WORD_LEN])\n",
    "    guess = position_map[transition_order[-guess_position]]\n",
    "    guesses = set()\n",
    "    n_mistakes = 0\n",
    "    n_correct = 0\n",
    "    while n_mistakes < 8 and n_correct < correct_letters_needed:\n",
    "        guesses.update(guess)\n",
    "        if guess in word:\n",
    "            n_correct += 1\n",
    "            if is_print: print(f'correct guess: {guess}')\n",
    "            guess_position = 1\n",
    "            transition_probs = cp[WORD_LEN][letter_map[guess]]\n",
    "            transition_order = np.argsort(transition_probs)\n",
    "            guess = position_map[transition_order[-guess_position]]\n",
    "            while guess in guesses:\n",
    "                guess_position += 1\n",
    "                guess = position_map[transition_order[-guess_position]]\n",
    "        else:\n",
    "            if is_print: print(f'wrong guess: {guess}')\n",
    "            n_mistakes += 1\n",
    "            guess_position += 1\n",
    "            guess = position_map[transition_order[-guess_position]]\n",
    "            while guess in guesses:\n",
    "                guess_position += 1\n",
    "                guess = position_map[transition_order[-guess_position]]\n",
    "    if (n_correct == correct_letters_needed):\n",
    "        if is_print: print('WIN!')\n",
    "    return n_correct == correct_letters_needed"
   ]
  },
  {
   "cell_type": "code",
   "execution_count": 13,
   "id": "0314cb47",
   "metadata": {},
   "outputs": [
    {
     "name": "stdout",
     "output_type": "stream",
     "text": [
      "The strategy correctly guesses 29.60% of the dictionary words\n"
     ]
    }
   ],
   "source": [
    "results = []\n",
    "is_print = False\n",
    "for i, word in enumerate(words):\n",
    "    if is_print: print(f'GAME: {i}')\n",
    "    if is_print: print('-'*20)\n",
    "    results.append(game_cp_ld(word, is_print=is_print))\n",
    "    if is_print: print('-'*20)\n",
    "print(OUTPUT_STRING.format((sum(results) / len(words)*100)))"
   ]
  },
  {
   "cell_type": "markdown",
   "id": "9700fa3b",
   "metadata": {},
   "source": [
    "## CUMMULATIVE WEIGHTS OF CORRECT LETTERS"
   ]
  },
  {
   "cell_type": "code",
   "execution_count": 14,
   "id": "a4dcd02e",
   "metadata": {},
   "outputs": [],
   "source": [
    "def game_cp_ld_cum(word, is_print=True, cum_strategy='uniform'):\n",
    "    if is_print: print(f'word: {word}')\n",
    "    WORD_LEN = len(word)-1\n",
    "    guess_position = 1\n",
    "    correct_letters_needed = len(set(word))\n",
    "    transition_probs = np.zeros((26,))\n",
    "    transition_order = np.argsort(pp[WORD_LEN])\n",
    "    guess = position_map[transition_order[-guess_position]]\n",
    "    guesses = set()\n",
    "    n_mistakes = 0\n",
    "    n_correct = 0\n",
    "    while n_mistakes < 8 and n_correct < correct_letters_needed:\n",
    "        guesses.update(guess)\n",
    "        if guess in word:\n",
    "            n_correct += 1\n",
    "            if is_print: print(f'correct guess: {guess}')\n",
    "            guess_position = 1\n",
    "            if cum_strategy == 'uniform':\n",
    "                transition_probs += cp[WORD_LEN][letter_map[guess]]\n",
    "            elif cum_strategy == 'inverse_weights':\n",
    "                transition_probs += cp[WORD_LEN][letter_map[guess]]*ip[WORD_LEN][letter_map[guess]]\n",
    "            transition_order = np.argsort(transition_probs)\n",
    "            guess = position_map[transition_order[-guess_position]]\n",
    "            while guess in guesses:\n",
    "                guess_position += 1\n",
    "                guess = position_map[transition_order[-guess_position]]\n",
    "        else:\n",
    "            if is_print: print(f'wrong guess: {guess}')\n",
    "            n_mistakes += 1\n",
    "            guess_position += 1\n",
    "            guess = position_map[transition_order[-guess_position]]\n",
    "            while guess in guesses:\n",
    "                guess_position += 1\n",
    "                guess = position_map[transition_order[-guess_position]]\n",
    "    if (n_correct == correct_letters_needed):\n",
    "        if is_print: print('WIN!')\n",
    "    return n_correct == correct_letters_needed"
   ]
  },
  {
   "cell_type": "code",
   "execution_count": 15,
   "id": "d8d60d48",
   "metadata": {},
   "outputs": [
    {
     "name": "stdout",
     "output_type": "stream",
     "text": [
      "The strategy correctly guesses 29.36% of the dictionary words\n"
     ]
    }
   ],
   "source": [
    "results = []\n",
    "is_print = False\n",
    "for i, word in enumerate(words):\n",
    "    if is_print: print(f'GAME: {i}')\n",
    "    if is_print: print('-'*20)\n",
    "    results.append(game_cp_ld_cum(word, is_print=is_print))\n",
    "    if is_print: print('-'*20)\n",
    "print(OUTPUT_STRING.format((sum(results) / len(words)*100)))"
   ]
  },
  {
   "cell_type": "code",
   "execution_count": 16,
   "id": "27f264b3",
   "metadata": {},
   "outputs": [
    {
     "name": "stdout",
     "output_type": "stream",
     "text": [
      "The strategy correctly guesses 29.62% of the dictionary words\n"
     ]
    }
   ],
   "source": [
    "results = []\n",
    "is_print = False\n",
    "for i, word in enumerate(words):\n",
    "    if is_print: print(f'GAME: {i}')\n",
    "    if is_print: print('-'*20)\n",
    "    results.append(game_cp_ld_cum(word, is_print=is_print, cum_strategy = 'inverse_weights'))\n",
    "    if is_print: print('-'*20)\n",
    "print(OUTPUT_STRING.format((sum(results) / len(words)*100)))"
   ]
  }
 ],
 "metadata": {
  "kernelspec": {
   "display_name": "Python 3 (ipykernel)",
   "language": "python",
   "name": "python3"
  },
  "language_info": {
   "codemirror_mode": {
    "name": "ipython",
    "version": 3
   },
   "file_extension": ".py",
   "mimetype": "text/x-python",
   "name": "python",
   "nbconvert_exporter": "python",
   "pygments_lexer": "ipython3",
   "version": "3.11.4"
  }
 },
 "nbformat": 4,
 "nbformat_minor": 5
}
