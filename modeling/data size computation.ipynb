{
 "cells": [
  {
   "cell_type": "code",
   "execution_count": 1,
   "id": "5352675e",
   "metadata": {},
   "outputs": [],
   "source": [
    "import pandas as pd\n",
    "import numpy as np"
   ]
  },
  {
   "cell_type": "code",
   "execution_count": 2,
   "id": "3f208f61",
   "metadata": {},
   "outputs": [],
   "source": [
    "def create_binary_combinations(n):\n",
    "    # Loop through all numbers from 0 to 2^n - 1\n",
    "    r = []\n",
    "    for i in range(1 << n):\n",
    "        # Convert the current number to a binary string of length n\n",
    "        binary_str = format(i, '0' + str(n) + 'b')\n",
    "        r.append(binary_str)\n",
    "    return r"
   ]
  },
  {
   "cell_type": "code",
   "execution_count": 3,
   "id": "2c7b54d9",
   "metadata": {},
   "outputs": [],
   "source": [
    "masks = {}\n",
    "negative_masks = {}\n",
    "target_masks = {}\n",
    "full_masks = {}\n",
    "for i in range(1,17):\n",
    "    mask = np.array([[*s] for s in create_binary_combinations(i)[:-1]], dtype=int).astype(bool) # need double type conversion to keep '0' -> False\n",
    "    masks[i] = mask\n",
    "    negative_masks[i] = ~mask\n",
    "    targets_mask_proxy = (negative_masks[i] * np.arange(1, i+1)).reshape(-1)\n",
    "    target_masks[i] = np.delete(targets_mask_proxy,np.where(targets_mask_proxy == 0)) - 1\n",
    "    full_masks[i] = np.repeat(mask, mask.shape[1]-np.sum(mask, axis=1), axis=0)"
   ]
  },
  {
   "cell_type": "code",
   "execution_count": 4,
   "id": "6ece6777",
   "metadata": {},
   "outputs": [
    {
     "data": {
      "text/html": [
       "<div>\n",
       "<style scoped>\n",
       "    .dataframe tbody tr th:only-of-type {\n",
       "        vertical-align: middle;\n",
       "    }\n",
       "\n",
       "    .dataframe tbody tr th {\n",
       "        vertical-align: top;\n",
       "    }\n",
       "\n",
       "    .dataframe thead th {\n",
       "        text-align: right;\n",
       "    }\n",
       "</style>\n",
       "<table border=\"1\" class=\"dataframe\">\n",
       "  <thead>\n",
       "    <tr style=\"text-align: right;\">\n",
       "      <th></th>\n",
       "      <th>rows_per_word</th>\n",
       "    </tr>\n",
       "    <tr>\n",
       "      <th>0</th>\n",
       "      <th></th>\n",
       "    </tr>\n",
       "  </thead>\n",
       "  <tbody>\n",
       "    <tr>\n",
       "      <th>1</th>\n",
       "      <td>1</td>\n",
       "    </tr>\n",
       "    <tr>\n",
       "      <th>2</th>\n",
       "      <td>4</td>\n",
       "    </tr>\n",
       "    <tr>\n",
       "      <th>3</th>\n",
       "      <td>12</td>\n",
       "    </tr>\n",
       "    <tr>\n",
       "      <th>4</th>\n",
       "      <td>32</td>\n",
       "    </tr>\n",
       "    <tr>\n",
       "      <th>5</th>\n",
       "      <td>80</td>\n",
       "    </tr>\n",
       "    <tr>\n",
       "      <th>6</th>\n",
       "      <td>192</td>\n",
       "    </tr>\n",
       "    <tr>\n",
       "      <th>7</th>\n",
       "      <td>448</td>\n",
       "    </tr>\n",
       "    <tr>\n",
       "      <th>8</th>\n",
       "      <td>1024</td>\n",
       "    </tr>\n",
       "    <tr>\n",
       "      <th>9</th>\n",
       "      <td>2304</td>\n",
       "    </tr>\n",
       "    <tr>\n",
       "      <th>10</th>\n",
       "      <td>5120</td>\n",
       "    </tr>\n",
       "    <tr>\n",
       "      <th>11</th>\n",
       "      <td>11264</td>\n",
       "    </tr>\n",
       "    <tr>\n",
       "      <th>12</th>\n",
       "      <td>24576</td>\n",
       "    </tr>\n",
       "    <tr>\n",
       "      <th>13</th>\n",
       "      <td>53248</td>\n",
       "    </tr>\n",
       "    <tr>\n",
       "      <th>14</th>\n",
       "      <td>114688</td>\n",
       "    </tr>\n",
       "    <tr>\n",
       "      <th>15</th>\n",
       "      <td>245760</td>\n",
       "    </tr>\n",
       "    <tr>\n",
       "      <th>16</th>\n",
       "      <td>524288</td>\n",
       "    </tr>\n",
       "  </tbody>\n",
       "</table>\n",
       "</div>"
      ],
      "text/plain": [
       "    rows_per_word\n",
       "0                \n",
       "1               1\n",
       "2               4\n",
       "3              12\n",
       "4              32\n",
       "5              80\n",
       "6             192\n",
       "7             448\n",
       "8            1024\n",
       "9            2304\n",
       "10           5120\n",
       "11          11264\n",
       "12          24576\n",
       "13          53248\n",
       "14         114688\n",
       "15         245760\n",
       "16         524288"
      ]
     },
     "execution_count": 4,
     "metadata": {},
     "output_type": "execute_result"
    }
   ],
   "source": [
    "sizes = [(n, mask.shape[0]) for (n, mask) in full_masks.items()]\n",
    "df_sizes = pd.DataFrame(sizes).set_index(0)\n",
    "df_sizes.columns = ['rows_per_word']\n",
    "df_sizes"
   ]
  },
  {
   "cell_type": "code",
   "execution_count": 5,
   "id": "a68d7d01",
   "metadata": {},
   "outputs": [],
   "source": [
    "data = pd.read_csv('data/words_alpha.txt',header=None)\n",
    "data[0] = data[0].astype(str)"
   ]
  },
  {
   "cell_type": "code",
   "execution_count": 6,
   "id": "04d60fd6",
   "metadata": {},
   "outputs": [
    {
     "name": "stdout",
     "output_type": "stream",
     "text": [
      "Max word length: 31\n"
     ]
    },
    {
     "data": {
      "text/plain": [
       "<Axes: >"
      ]
     },
     "execution_count": 6,
     "metadata": {},
     "output_type": "execute_result"
    },
    {
     "data": {
      "image/png": "[encoded data removed]",
      "text/plain": [
       "<Figure size 640x480 with 1 Axes>"
      ]
     },
     "metadata": {},
     "output_type": "display_data"
    }
   ],
   "source": [
    "print('Max word length:',data[0].str.len().max())\n",
    "data[0].str.len().hist(bins=31)"
   ]
  },
  {
   "cell_type": "code",
   "execution_count": 7,
   "id": "2ce83e6e",
   "metadata": {},
   "outputs": [],
   "source": [
    "data['n_unique_letters'] = data[0].apply(lambda x: len(set(x)))"
   ]
  },
  {
   "cell_type": "code",
   "execution_count": 8,
   "id": "b49599fe",
   "metadata": {},
   "outputs": [
    {
     "name": "stdout",
     "output_type": "stream",
     "text": [
      "Max unique letters:  16\n"
     ]
    },
    {
     "data": {
      "text/plain": [
       "<Axes: >"
      ]
     },
     "execution_count": 8,
     "metadata": {},
     "output_type": "execute_result"
    },
    {
     "data": {
      "image/png": "[encoded data removed]",
      "text/plain": [
       "<Figure size 640x480 with 1 Axes>"
      ]
     },
     "metadata": {},
     "output_type": "display_data"
    }
   ],
   "source": [
    "print('Max unique letters: ', data['n_unique_letters'].max())\n",
    "data['n_unique_letters'].hist(bins=16)"
   ]
  },
  {
   "cell_type": "code",
   "execution_count": 9,
   "id": "54556a37",
   "metadata": {},
   "outputs": [
    {
     "name": "stdout",
     "output_type": "stream",
     "text": [
      "Total number of rows: 844,383,096\n",
      "Required memory for targets: 805 MB,\n",
      "Required memory for inputs: 25,769 MB\n",
      "Number of training examples: 844,383,096\n"
     ]
    },
    {
     "data": {
      "text/html": [
       "<div>\n",
       "<style scoped>\n",
       "    .dataframe tbody tr th:only-of-type {\n",
       "        vertical-align: middle;\n",
       "    }\n",
       "\n",
       "    .dataframe tbody tr th {\n",
       "        vertical-align: top;\n",
       "    }\n",
       "\n",
       "    .dataframe thead th {\n",
       "        text-align: right;\n",
       "    }\n",
       "</style>\n",
       "<table border=\"1\" class=\"dataframe\">\n",
       "  <thead>\n",
       "    <tr style=\"text-align: right;\">\n",
       "      <th></th>\n",
       "      <th>n_words</th>\n",
       "      <th>rows_per_word</th>\n",
       "      <th>n_rows</th>\n",
       "      <th>memory_targets_mb</th>\n",
       "      <th>memory_features_mb</th>\n",
       "    </tr>\n",
       "  </thead>\n",
       "  <tbody>\n",
       "    <tr>\n",
       "      <th>1</th>\n",
       "      <td>44</td>\n",
       "      <td>1</td>\n",
       "      <td>44</td>\n",
       "      <td>0.000042</td>\n",
       "      <td>0.001343</td>\n",
       "    </tr>\n",
       "    <tr>\n",
       "      <th>2</th>\n",
       "      <td>749</td>\n",
       "      <td>4</td>\n",
       "      <td>2996</td>\n",
       "      <td>0.002857</td>\n",
       "      <td>0.091431</td>\n",
       "    </tr>\n",
       "    <tr>\n",
       "      <th>3</th>\n",
       "      <td>4458</td>\n",
       "      <td>12</td>\n",
       "      <td>53496</td>\n",
       "      <td>0.051018</td>\n",
       "      <td>1.632568</td>\n",
       "    </tr>\n",
       "    <tr>\n",
       "      <th>4</th>\n",
       "      <td>15433</td>\n",
       "      <td>32</td>\n",
       "      <td>493856</td>\n",
       "      <td>0.470978</td>\n",
       "      <td>15.071289</td>\n",
       "    </tr>\n",
       "    <tr>\n",
       "      <th>5</th>\n",
       "      <td>36100</td>\n",
       "      <td>80</td>\n",
       "      <td>2888000</td>\n",
       "      <td>2.754211</td>\n",
       "      <td>88.134766</td>\n",
       "    </tr>\n",
       "    <tr>\n",
       "      <th>6</th>\n",
       "      <td>60122</td>\n",
       "      <td>192</td>\n",
       "      <td>11543424</td>\n",
       "      <td>11.008667</td>\n",
       "      <td>352.277344</td>\n",
       "    </tr>\n",
       "    <tr>\n",
       "      <th>7</th>\n",
       "      <td>74265</td>\n",
       "      <td>448</td>\n",
       "      <td>33270720</td>\n",
       "      <td>31.729431</td>\n",
       "      <td>1015.341797</td>\n",
       "    </tr>\n",
       "    <tr>\n",
       "      <th>8</th>\n",
       "      <td>70430</td>\n",
       "      <td>1024</td>\n",
       "      <td>72120320</td>\n",
       "      <td>68.779297</td>\n",
       "      <td>2200.937500</td>\n",
       "    </tr>\n",
       "    <tr>\n",
       "      <th>9</th>\n",
       "      <td>53537</td>\n",
       "      <td>2304</td>\n",
       "      <td>123349248</td>\n",
       "      <td>117.635010</td>\n",
       "      <td>3764.320312</td>\n",
       "    </tr>\n",
       "    <tr>\n",
       "      <th>10</th>\n",
       "      <td>32443</td>\n",
       "      <td>5120</td>\n",
       "      <td>166108160</td>\n",
       "      <td>158.413086</td>\n",
       "      <td>5069.218750</td>\n",
       "    </tr>\n",
       "    <tr>\n",
       "      <th>11</th>\n",
       "      <td>15144</td>\n",
       "      <td>11264</td>\n",
       "      <td>170582016</td>\n",
       "      <td>162.679688</td>\n",
       "      <td>5205.750000</td>\n",
       "    </tr>\n",
       "    <tr>\n",
       "      <th>12</th>\n",
       "      <td>5543</td>\n",
       "      <td>24576</td>\n",
       "      <td>136224768</td>\n",
       "      <td>129.914062</td>\n",
       "      <td>4157.250000</td>\n",
       "    </tr>\n",
       "    <tr>\n",
       "      <th>13</th>\n",
       "      <td>1484</td>\n",
       "      <td>53248</td>\n",
       "      <td>79020032</td>\n",
       "      <td>75.359375</td>\n",
       "      <td>2411.500000</td>\n",
       "    </tr>\n",
       "    <tr>\n",
       "      <th>14</th>\n",
       "      <td>301</td>\n",
       "      <td>114688</td>\n",
       "      <td>34521088</td>\n",
       "      <td>32.921875</td>\n",
       "      <td>1053.500000</td>\n",
       "    </tr>\n",
       "    <tr>\n",
       "      <th>15</th>\n",
       "      <td>45</td>\n",
       "      <td>245760</td>\n",
       "      <td>11059200</td>\n",
       "      <td>10.546875</td>\n",
       "      <td>337.500000</td>\n",
       "    </tr>\n",
       "    <tr>\n",
       "      <th>16</th>\n",
       "      <td>6</td>\n",
       "      <td>524288</td>\n",
       "      <td>3145728</td>\n",
       "      <td>3.000000</td>\n",
       "      <td>96.000000</td>\n",
       "    </tr>\n",
       "  </tbody>\n",
       "</table>\n",
       "</div>"
      ],
      "text/plain": [
       "    n_words  rows_per_word     n_rows  memory_targets_mb  memory_features_mb\n",
       "1        44              1         44           0.000042            0.001343\n",
       "2       749              4       2996           0.002857            0.091431\n",
       "3      4458             12      53496           0.051018            1.632568\n",
       "4     15433             32     493856           0.470978           15.071289\n",
       "5     36100             80    2888000           2.754211           88.134766\n",
       "6     60122            192   11543424          11.008667          352.277344\n",
       "7     74265            448   33270720          31.729431         1015.341797\n",
       "8     70430           1024   72120320          68.779297         2200.937500\n",
       "9     53537           2304  123349248         117.635010         3764.320312\n",
       "10    32443           5120  166108160         158.413086         5069.218750\n",
       "11    15144          11264  170582016         162.679688         5205.750000\n",
       "12     5543          24576  136224768         129.914062         4157.250000\n",
       "13     1484          53248   79020032          75.359375         2411.500000\n",
       "14      301         114688   34521088          32.921875         1053.500000\n",
       "15       45         245760   11059200          10.546875          337.500000\n",
       "16        6         524288    3145728           3.000000           96.000000"
      ]
     },
     "execution_count": 9,
     "metadata": {},
     "output_type": "execute_result"
    }
   ],
   "source": [
    "x = pd.merge(pd.DataFrame(data['n_unique_letters'].value_counts()).rename(columns={'n_unique_letters':'n_words'}), df_sizes, how='outer', left_index=True, right_index=True)\n",
    "x['n_rows'] = x['n_words'] * x['rows_per_word']\n",
    "n_rows = x['n_rows'].sum()\n",
    "print(f'Total number of rows: {n_rows:,}')\n",
    "# Assume that target will be saved as uint8\n",
    "x['memory_targets_mb'] = x['n_rows'] * 8 / 8 / 1024 / 1024 \n",
    "# Assume that words will be saved in ASCII since we use only English letter, so it will be 8 bits\n",
    "# Then, we take 32 window size to estimate upper bound\n",
    "x['memory_features_mb'] = x['n_rows'] * 8 * 32 / 8 / 1024 / 1024 \n",
    "mt = x['memory_targets_mb'].sum()\n",
    "mi = x['memory_features_mb'].sum()\n",
    "nte = x['n_rows'].sum()\n",
    "print(f'Required memory for targets: {mt:.0f} MB,\\nRequired memory for inputs: {mi:,.0f} MB')\n",
    "print(f'Number of training examples: {nte:,}')\n",
    "x"
   ]
  }
 ],
 "metadata": {
  "kernelspec": {
   "display_name": "Python 3 (ipykernel)",
   "language": "python",
   "name": "python3"
  },
  "language_info": {
   "codemirror_mode": {
    "name": "ipython",
    "version": 3
   },
   "file_extension": ".py",
   "mimetype": "text/x-python",
   "name": "python",
   "nbconvert_exporter": "python",
   "pygments_lexer": "ipython3",
   "version": "3.11.4"
  }
 },
 "nbformat": 4,
 "nbformat_minor": 5
}
